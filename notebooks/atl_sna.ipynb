{
 "cells": [
  {
   "cell_type": "code",
   "execution_count": 44,
   "metadata": {},
   "outputs": [
    {
     "data": {
      "text/html": [
       "<div>\n",
       "<style scoped>\n",
       "    .dataframe tbody tr th:only-of-type {\n",
       "        vertical-align: middle;\n",
       "    }\n",
       "\n",
       "    .dataframe tbody tr th {\n",
       "        vertical-align: top;\n",
       "    }\n",
       "\n",
       "    .dataframe thead th {\n",
       "        text-align: right;\n",
       "    }\n",
       "</style>\n",
       "<table border=\"1\" class=\"dataframe\">\n",
       "  <thead>\n",
       "    <tr style=\"text-align: right;\">\n",
       "      <th></th>\n",
       "      <th>source</th>\n",
       "      <th>target</th>\n",
       "    </tr>\n",
       "  </thead>\n",
       "  <tbody>\n",
       "    <tr>\n",
       "      <td>0</td>\n",
       "      <td>Alex Len</td>\n",
       "      <td>Alex Poythress</td>\n",
       "    </tr>\n",
       "    <tr>\n",
       "      <td>1</td>\n",
       "      <td>Alex Len</td>\n",
       "      <td>B.J. Johnson</td>\n",
       "    </tr>\n",
       "    <tr>\n",
       "      <td>2</td>\n",
       "      <td>Alex Len</td>\n",
       "      <td>Daniel Hamilton</td>\n",
       "    </tr>\n",
       "    <tr>\n",
       "      <td>3</td>\n",
       "      <td>Alex Len</td>\n",
       "      <td>DeAndre' Bembry</td>\n",
       "    </tr>\n",
       "    <tr>\n",
       "      <td>4</td>\n",
       "      <td>Alex Len</td>\n",
       "      <td>Dewayne Dedmon</td>\n",
       "    </tr>\n",
       "    <tr>\n",
       "      <td>...</td>\n",
       "      <td>...</td>\n",
       "      <td>...</td>\n",
       "    </tr>\n",
       "    <tr>\n",
       "      <td>6259</td>\n",
       "      <td>Red Owens</td>\n",
       "      <td>Warren Perkins</td>\n",
       "    </tr>\n",
       "    <tr>\n",
       "      <td>6260</td>\n",
       "      <td>Red Owens</td>\n",
       "      <td>Whitey Von Nieda</td>\n",
       "    </tr>\n",
       "    <tr>\n",
       "      <td>6261</td>\n",
       "      <td>Walt Kirk</td>\n",
       "      <td>Warren Perkins</td>\n",
       "    </tr>\n",
       "    <tr>\n",
       "      <td>6262</td>\n",
       "      <td>Walt Kirk</td>\n",
       "      <td>Whitey Von Nieda</td>\n",
       "    </tr>\n",
       "    <tr>\n",
       "      <td>6263</td>\n",
       "      <td>Warren Perkins</td>\n",
       "      <td>Whitey Von Nieda</td>\n",
       "    </tr>\n",
       "  </tbody>\n",
       "</table>\n",
       "<p>6264 rows × 2 columns</p>\n",
       "</div>"
      ],
      "text/plain": [
       "              source            target\n",
       "0           Alex Len    Alex Poythress\n",
       "1           Alex Len      B.J. Johnson\n",
       "2           Alex Len   Daniel Hamilton\n",
       "3           Alex Len   DeAndre' Bembry\n",
       "4           Alex Len    Dewayne Dedmon\n",
       "...              ...               ...\n",
       "6259       Red Owens    Warren Perkins\n",
       "6260       Red Owens  Whitey Von Nieda\n",
       "6261       Walt Kirk    Warren Perkins\n",
       "6262       Walt Kirk  Whitey Von Nieda\n",
       "6263  Warren Perkins  Whitey Von Nieda\n",
       "\n",
       "[6264 rows x 2 columns]"
      ]
     },
     "execution_count": 44,
     "metadata": {},
     "output_type": "execute_result"
    }
   ],
   "source": [
    "# import packages\n",
    "import os \n",
    "import pandas as pd \n",
    "import networkx as nx\n",
    "import seaborn as sns\n",
    "import matplotlib.pyplot as plt\n",
    "from operator import itemgetter\n",
    "from networkx.algorithms import community\n",
    "\n",
    "# load node and edgelist \n",
    "os.chdir(\"../data\")\n",
    "nodelist = pd.read_csv(\"ATL_Network - Nodelist.csv\", index_col=1)\n",
    "edgelist = pd.read_csv(\"ATL_Network - Edgelist.csv\")\n",
    "edgelist.columns = [col.lower() for col in edgelist]\n",
    "# create a weighted edgelist \n",
    "edgelist = edgelist[[\"source\",\"target\"]]\n",
    "edgelist.to_csv('ATL_Network - Cleaned_Edgelist.csv', index=False)\n",
    "edgelist = pd.read_csv(\"ATL_Network - Cleaned_Edgelist.csv\")\n",
    "edgelist"
   ]
  },
  {
   "cell_type": "code",
   "execution_count": 52,
   "metadata": {
    "scrolled": true
   },
   "outputs": [
    {
     "data": {
      "image/png": "[encoded data removed]",
      "text/plain": [
       "<Figure size 1152x288 with 1 Axes>"
      ]
     },
     "metadata": {},
     "output_type": "display_data"
    }
   ],
   "source": [
    "g = nx.from_pandas_edgelist(edgelist, source='source', target='target') \n",
    "plt.figure(figsize=(16,4))\n",
    "nx.draw_networkx(g, arrows=False, with_labels=False)"
   ]
  },
  {
   "cell_type": "code",
   "execution_count": null,
   "metadata": {},
   "outputs": [],
   "source": []
  },
  {
   "cell_type": "code",
   "execution_count": null,
   "metadata": {},
   "outputs": [],
   "source": []
  },
  {
   "cell_type": "code",
   "execution_count": null,
   "metadata": {},
   "outputs": [],
   "source": []
  },
  {
   "cell_type": "code",
   "execution_count": null,
   "metadata": {},
   "outputs": [],
   "source": []
  },
  {
   "cell_type": "code",
   "execution_count": null,
   "metadata": {},
   "outputs": [],
   "source": []
  },
  {
   "cell_type": "markdown",
   "metadata": {},
   "source": [
    "Citations & Links\n",
    "\n",
    "http://jonathansoma.com/lede/algorithms-2017/classes/networks/networkx-graphs-from-source-target-dataframe/"
   ]
  }
 ],
 "metadata": {
  "kernelspec": {
   "display_name": "Python 3",
   "language": "python",
   "name": "python3"
  },
  "language_info": {
   "codemirror_mode": {
    "name": "ipython",
    "version": 3
   },
   "file_extension": ".py",
   "mimetype": "text/x-python",
   "name": "python",
   "nbconvert_exporter": "python",
   "pygments_lexer": "ipython3",
   "version": "3.7.4"
  }
 },
 "nbformat": 4,
 "nbformat_minor": 2
}
